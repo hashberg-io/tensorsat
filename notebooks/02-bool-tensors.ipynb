{
 "cells": [
  {
   "cell_type": "markdown",
   "metadata": {},
   "source": [
    "# Boolean Tensors\n",
    "\n",
    "**TODO:** Present the fundamental ideas of Boolean tensor contraction for satisfiability."
   ]
  }
 ],
 "metadata": {
  "language_info": {
   "name": "python"
  }
 },
 "nbformat": 4,
 "nbformat_minor": 2
}
