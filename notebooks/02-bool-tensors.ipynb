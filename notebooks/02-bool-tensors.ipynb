{
 "cells": [
  {
   "cell_type": "markdown",
   "metadata": {},
   "source": [
    "# Boolean Tensors\n",
    "\n",
    "The language `fin_rel` contains:\n",
    "\n",
    "- **Types:** Finite enumerated sets (in the form $\\lbrace 0,...,n-1 \\rbrace$ for size $n \\geq 1$).\n",
    "- **Boxes:** Finitary relations between finite enumerated sets, parametrised by Boolean tensors.\n",
    "\n",
    "Specifically, a relation $R \\subseteq \\prod\\limits_{k=0}^{m-1} {0,...,n_k}$ can be densely represented by its indicator function:\n",
    "\n",
    "$$\n",
    "1_R: \\prod_{k=0}^{m-1} {0,...,n_k} \\rightarrow \\lbrace 0, 1 \\rbrace\n",
    "$$\n",
    "\n",
    "Embedding $\\lbrace 0, 1 \\rbrace$ with the structure of the Boolean semiring, such indicator functions take the form of Boolean tensors."
   ]
  },
  {
   "cell_type": "code",
   "execution_count": 12,
   "metadata": {},
   "outputs": [],
   "source": [
    "import numpy as np\n",
    "from tensorsat.lang.fin_rel import FinSet, FinRel"
   ]
  },
  {
   "cell_type": "markdown",
   "metadata": {},
   "source": [
    "Boxes in `fin_rel` are parametrised by Boolean tensors: these can be accessed via the `tensor` property of `FinRel` instances, in the form of NumPy UInt8 arrays.\n",
    "As an example, consider the `and_` operator from the `bincirc` library."
   ]
  },
  {
   "cell_type": "code",
   "execution_count": 4,
   "metadata": {},
   "outputs": [
    {
     "data": {
      "text/plain": [
       "array([[[1, 0],\n",
       "        [1, 0]],\n",
       "\n",
       "       [[1, 0],\n",
       "        [0, 1]]], dtype=uint8)"
      ]
     },
     "execution_count": 4,
     "metadata": {},
     "output_type": "execute_result"
    }
   ],
   "source": [
    "from tensorsat.lib.bincirc import and_\n",
    "and_.tensor"
   ]
  },
  {
   "cell_type": "markdown",
   "metadata": {},
   "source": [
    "The `and_` gate is a ternary relation:\n",
    "\n",
    "$$\n",
    "\\texttt{and\\_} :=\n",
    "\\left\\lbrace (a, b, a\\&b) \\middle| a, b \\in \\lbrace 0, 1 \\rbrace \\right\\rbrace\n",
    "\\subset \\lbrace 0, 1 \\rbrace^3\n",
    "$$\n",
    "\n",
    "By our convention, input components are listed before output components."
   ]
  },
  {
   "cell_type": "markdown",
   "metadata": {},
   "source": [
    "For a relation $R \\subseteq \\prod\\limits_{k=0}^{m-1} {0,...,n_k}$, the Boolean tensor has rank $m$ and shape $(n_0,...,n_{m-1})$.\n",
    "For the `and_` gate, the rank is 3 and the shape is `(2, 2, 2)`."
   ]
  },
  {
   "cell_type": "code",
   "execution_count": 9,
   "metadata": {},
   "outputs": [
    {
     "name": "stdout",
     "output_type": "stream",
     "text": [
      "len(and_.tensor.shape) = 3\n",
      "and_.tensor.shape = (2, 2, 2)\n"
     ]
    }
   ],
   "source": [
    "print(f\"{len(and_.tensor.shape) = }\") # rank\n",
    "print(f\"{and_.tensor.shape = }\") # shape\n",
    "# (2, 2, 2)\n",
    "#        ^ 1 output bit\n",
    "#  ^^^^ 2 input bits"
   ]
  },
  {
   "cell_type": "markdown",
   "metadata": {},
   "source": [
    "We can enumerate the set of tuples in a relation by iterating over all elements of the relation's domain, using them to index the Boolean tensor, and keeping those where the tensor has value 1."
   ]
  },
  {
   "cell_type": "code",
   "execution_count": 22,
   "metadata": {},
   "outputs": [
    {
     "name": "stdout",
     "output_type": "stream",
     "text": [
      "{(1, 0, 0), (0, 0, 0), (1, 1, 1), (0, 1, 0)}\n"
     ]
    }
   ],
   "source": [
    "print({\n",
    "    point\n",
    "    for point in np.ndindex(and_.tensor.shape)\n",
    "    if and_.tensor[point]\n",
    "})\n",
    "# { (0 , 0 , 0), (0 , 1 , 0), (1 , 0 , 0), (1 , 1 , 1) }\n",
    "#    0 & 0 = 0    0 & 1 = 0    1 & 0 = 0    1 & 1 = 1"
   ]
  },
  {
   "cell_type": "markdown",
   "metadata": {},
   "source": [
    "By flattening the input and output components, we can also obtain a more traditional representation of the gate as a Boolean matrix. According to our convention, where input components appear first, the resultin matrix acts naturally to the left on row Boolean vectors.\n",
    "In this representation, the rows are the indicator functions for the output values of the gate on its 4 inputs."
   ]
  },
  {
   "cell_type": "code",
   "execution_count": 23,
   "metadata": {},
   "outputs": [
    {
     "data": {
      "text/plain": [
       "array([[1, 0],\n",
       "       [1, 0],\n",
       "       [1, 0],\n",
       "       [0, 1]], dtype=uint8)"
      ]
     },
     "execution_count": 23,
     "metadata": {},
     "output_type": "execute_result"
    }
   ],
   "source": [
    "and_.tensor.reshape(4, 2)\n",
    "# [[1, 0], < indicator of 0 ∈ {0, 1}, the output on (0, 0)\n",
    "#  [1, 0], < indicator of 0 ∈ {0, 1}, the output on (0, 1)\n",
    "#  [1, 0], < indicator of 0 ∈ {0, 1}, the output on (1, 0)\n",
    "#  [0, 1]] < indicator of 1 ∈ {0, 1}, the output on (1, 1)"
   ]
  },
  {
   "cell_type": "markdown",
   "metadata": {},
   "source": [
    "To obtain the more traditional presentation, acting to the right on column Boolean vectors, it suffices to take the transpose.\n",
    "In this representations, the columns are the indicator functions for the output values instead."
   ]
  },
  {
   "cell_type": "code",
   "execution_count": 24,
   "metadata": {},
   "outputs": [
    {
     "data": {
      "text/plain": [
       "array([[1, 1, 1, 0],\n",
       "       [0, 0, 0, 1]], dtype=uint8)"
      ]
     },
     "execution_count": 24,
     "metadata": {},
     "output_type": "execute_result"
    }
   ],
   "source": [
    "and_.tensor.reshape(4, 2).T\n",
    "# [[1, 1, 1, 0],\n",
    "#  [0, 0, 0, 1]]\n",
    "#            ^ indicator of 1 ∈ {0, 1}\n",
    "#         ^ indicator of 0 ∈ {0, 1}\n",
    "#      ^ indicator of 0 ∈ {0, 1}\n",
    "#   ^ indicator of 0 ∈ {0, 1}"
   ]
  },
  {
   "cell_type": "markdown",
   "metadata": {},
   "source": [
    "**TODO:** Showcase Boolean tensor network contraction for satisfiability."
   ]
  }
 ],
 "metadata": {
  "kernelspec": {
   "display_name": "Python 3",
   "language": "python",
   "name": "python3"
  },
  "language_info": {
   "codemirror_mode": {
    "name": "ipython",
    "version": 3
   },
   "file_extension": ".py",
   "mimetype": "text/x-python",
   "name": "python",
   "nbconvert_exporter": "python",
   "pygments_lexer": "ipython3",
   "version": "3.13.0"
  }
 },
 "nbformat": 4,
 "nbformat_minor": 2
}
