{
 "cells": [
  {
   "cell_type": "code",
   "execution_count": 12,
   "id": "6f22e093-919a-4f3d-8bdc-2aa91cceaa15",
   "metadata": {},
   "outputs": [],
   "source": [
    "import cotengra as ctg\n",
    "from _formula import *\n",
    "from _sat import *"
   ]
  },
  {
   "cell_type": "markdown",
   "id": "ad9ff317-fdcb-4f8b-a050-111b9dadf13e",
   "metadata": {},
   "source": [
    "## Boolean operations as tensors"
   ]
  },
  {
   "cell_type": "markdown",
   "id": "b1416760-9490-49fa-a471-6e13f7cd8183",
   "metadata": {},
   "source": [
    "Rank-1 tensor for output nodes."
   ]
  },
  {
   "cell_type": "code",
   "execution_count": 13,
   "id": "461527bd-1bf6-4cec-ae27-43f3668e3e5d",
   "metadata": {},
   "outputs": [],
   "source": [
    "output_t: np.ndarray = np.array([0, 1])"
   ]
  },
  {
   "cell_type": "markdown",
   "id": "9cc3e63d-b64e-4efd-9c7d-9967303bb848",
   "metadata": {},
   "source": [
    "Rank-2 tensor for negation."
   ]
  },
  {
   "cell_type": "code",
   "execution_count": 14,
   "id": "7aabb31a-67dc-47d7-964c-ba969ae1d851",
   "metadata": {},
   "outputs": [],
   "source": [
    "negation_t: np.ndarray = np.array([[0, 1], [1, 0]])"
   ]
  },
  {
   "cell_type": "markdown",
   "id": "a2b9619d-e539-414b-8340-d692df73e4d1",
   "metadata": {},
   "source": [
    "Rank-3 tensor for disjunction."
   ]
  },
  {
   "cell_type": "code",
   "execution_count": 15,
   "id": "e95c3a9e-b44c-41d1-aa1a-4a152ebd8840",
   "metadata": {},
   "outputs": [],
   "source": [
    "disj_t: np.ndarray = np.zeros((2, 2, 2))\n",
    "\n",
    "for i in range(2):\n",
    "    for j in range(2):\n",
    "        disj_t[i][j][i | j] = 1"
   ]
  },
  {
   "cell_type": "markdown",
   "id": "184d8ea9-7bb2-41f6-9b10-304048ff4b26",
   "metadata": {},
   "source": [
    "## Input arrays"
   ]
  },
  {
   "cell_type": "markdown",
   "id": "99d4c435-4d23-44ec-973e-95b7f58432f7",
   "metadata": {},
   "source": [
    "The `input_arrays` function constructs the tensors that the tensor network representation of the CNF will be instantiated with to perform the contraction."
   ]
  },
  {
   "cell_type": "code",
   "execution_count": 16,
   "id": "7c271a7d-c171-4699-87cb-bdf00d971a3b",
   "metadata": {},
   "outputs": [],
   "source": [
    "def input_arrays(cnf: CNFInstance) -> List[np.ndarray]:\n",
    "    \"\"\"Constructs the tensors on which the contraction will be instantiated\n",
    "       to find a satisfying assignment.\"\"\"\n",
    "    inputs = cnf.network().wiring.hypergraph.inputs\n",
    "    arrays = []\n",
    "\n",
    "    for n in inputs:\n",
    "        if len(n) == 1:\n",
    "            arrays.append(output_t)\n",
    "        elif len(n) == 2:\n",
    "            arrays.append(negation_t)\n",
    "        elif len(n) == 3:\n",
    "            arrays.append(disj_t)\n",
    "\n",
    "    return arrays"
   ]
  },
  {
   "cell_type": "markdown",
   "id": "0039db3d-6b9d-48dd-a08a-4d7da3707c5a",
   "metadata": {},
   "source": [
    "## Translating CNF formulae to Einsum expressions"
   ]
  },
  {
   "cell_type": "code",
   "execution_count": 17,
   "id": "f1dffe24-b06d-4669-bf57-e4e789ac5784",
   "metadata": {},
   "outputs": [],
   "source": [
    "def einsum_expression(cnf: CNFInstance):\n",
    "    \"\"\"Einsum expression corresponding to a given CNF formula.\"\"\"\n",
    "    graph = cnf.network().wiring.hypergraph\n",
    "    expr = ctg.utils.inputs_output_to_eq(graph.inputs, graph.output)\n",
    "\n",
    "    [inputs, outputs] = expr.split(\"->\")\n",
    "\n",
    "    n = max([ int(n) for n in inputs if n != \",\" ])\n",
    "\n",
    "    for i in range(n+1):\n",
    "        inputs = inputs.replace(str(i), str(chr(97 + i)))\n",
    "        outputs = outputs.replace(str(i), str(chr(97 + i)))\n",
    "\n",
    "    return inputs + \"->\" + outputs"
   ]
  },
  {
   "cell_type": "markdown",
   "id": "23c2815a-3817-4f5f-adda-7c6715a1c94d",
   "metadata": {},
   "source": [
    "## Testing out an example"
   ]
  },
  {
   "cell_type": "code",
   "execution_count": 18,
   "id": "3c797093-09ca-485c-846c-fb86be2ba825",
   "metadata": {},
   "outputs": [
    {
     "name": "stdout",
     "output_type": "stream",
     "text": [
      "((np.int64(1), np.int64(2), np.int64(3)), (np.int64(-3), np.int64(-2), np.int64(-1)))\n",
      "abd,dce,e,cf,bg,ah,fgi,ihj,j->abc\n"
     ]
    }
   ],
   "source": [
    "cnf1: CNFInstance = CNFInstance.random(k=3, n=3, m=2, rng=0)\n",
    "cnf2: CNFInstance = CNFInstance.from_formula(neg(conj(disj(variable(\"a\"), variable(\"b\")), conj(neg(variable(\"a\")), neg(variable(\"b\"))))))\n",
    "\n",
    "print(cnf1.clauses)\n",
    "\n",
    "expr1: str = einsum_expression(cnf1)\n",
    "expr2: str = einsum_expression(cnf2)\n",
    "\n",
    "print(expr1)"
   ]
  },
  {
   "cell_type": "markdown",
   "id": "85e61913-605d-41ce-90d3-1e73c40997bc",
   "metadata": {},
   "source": [
    "`abd,dce,e,cf,bg,ah,fgi,ihj,j->abc`\n",
    "\n",
    "- `d = a | b`\n",
    "- `e = d | c`\n",
    "- `assert e == 1`\n",
    "- `f = ~ c`\n",
    "- `g = ~ b`\n",
    "- `h = ~ a`\n",
    "- `i = f | g`\n",
    "- `j = f | h`\n",
    "- `assert j == 1`\n",
    "- `return a , b , c`\n"
   ]
  },
  {
   "cell_type": "code",
   "execution_count": 22,
   "id": "13278cb5-9adb-4973-bc97-9b2a7314f9d8",
   "metadata": {},
   "outputs": [
    {
     "data": {
      "text/plain": [
       "[0, 1, 1, 1, 1, 1, 1, 0]"
      ]
     },
     "execution_count": 22,
     "metadata": {},
     "output_type": "execute_result"
    }
   ],
   "source": [
    "[ int(x) for x in ctg.einsum(expr1, *input_arrays(cnf1)).reshape(8) ]"
   ]
  }
 ],
 "metadata": {
  "kernelspec": {
   "display_name": "Python 3 (ipykernel)",
   "language": "python",
   "name": "python3"
  },
  "language_info": {
   "codemirror_mode": {
    "name": "ipython",
    "version": 3
   },
   "file_extension": ".py",
   "mimetype": "text/x-python",
   "name": "python",
   "nbconvert_exporter": "python",
   "pygments_lexer": "ipython3",
   "version": "3.13.1"
  }
 },
 "nbformat": 4,
 "nbformat_minor": 5
}
