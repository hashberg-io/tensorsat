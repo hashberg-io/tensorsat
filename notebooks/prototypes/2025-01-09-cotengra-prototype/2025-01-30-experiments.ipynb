{
 "cells": [
  {
   "metadata": {
    "ExecuteTime": {
     "end_time": "2025-01-30T00:33:52.558183Z",
     "start_time": "2025-01-30T00:33:52.484478Z"
    }
   },
   "cell_type": "code",
   "source": [
    "import cotengra as ctg\n",
    "from _formula import *\n",
    "from _sat import *"
   ],
   "id": "3cb3546bdedfefe2",
   "outputs": [],
   "execution_count": 3
  },
  {
   "metadata": {
    "ExecuteTime": {
     "end_time": "2025-01-30T00:36:27.615212Z",
     "start_time": "2025-01-30T00:36:27.612638Z"
    }
   },
   "cell_type": "code",
   "source": [
    "## Rank-1 tensor for output nodes.\n",
    "output_t: np.ndarray = np.array([0, 1])\n",
    "\n",
    "## Rank-2 tensor for negation nodes.\n",
    "negation_t: np.ndarray = np.array([[0, 1], [1, 0]])\n",
    "\n",
    "## Rank-3 tensors for binary operations of conjunction and disjunction.\n",
    "conj_t: np.ndarray = np.zeros((2, 2, 2))\n",
    "\n",
    "for i in range(2):\n",
    "    for j in range(2):\n",
    "        for k in range(2):\n",
    "            conj_t[i][j][k] = int(int(i and j) == int(k))"
   ],
   "id": "7487a5038d215356",
   "outputs": [],
   "execution_count": 10
  },
  {
   "metadata": {},
   "cell_type": "markdown",
   "source": "The `input_arrays` function constructs the tensors that the tensor network representation of the CNF will be instantiated with to perform the contraction.",
   "id": "16fe31eaaf6359b8"
  },
  {
   "metadata": {
    "ExecuteTime": {
     "end_time": "2025-01-30T00:43:48.051690Z",
     "start_time": "2025-01-30T00:43:48.048121Z"
    }
   },
   "cell_type": "code",
   "source": [
    "def input_arrays(cnf: CNFInstance) -> List[np.ndarray]:\n",
    "    inputs = cnf.network().wiring.hypergraph.inputs\n",
    "    arrays = []\n",
    "\n",
    "    for n in inputs:\n",
    "        if len(n) == 1:\n",
    "            arrays.append(output_t)\n",
    "        elif len(n) == 2:\n",
    "            arrays.append(negation_t)\n",
    "        elif len(n) == 3:\n",
    "            arrays.append(conj_t)\n",
    "\n",
    "    return arrays"
   ],
   "id": "8c54b5d9538bd1ce",
   "outputs": [],
   "execution_count": 27
  },
  {
   "metadata": {
    "ExecuteTime": {
     "end_time": "2025-01-30T00:50:21.940105Z",
     "start_time": "2025-01-30T00:50:21.937281Z"
    }
   },
   "cell_type": "code",
   "source": [
    "def einsum_expression(cnf: CNFInstance):\n",
    "    graph = cnf.network().wiring.hypergraph\n",
    "    expr = ctg.utils.inputs_output_to_eq(graph.inputs, graph.output)\n",
    "\n",
    "    [inputs, outputs] = expr.split(\"->\")\n",
    "\n",
    "    n = max([ int(n) for n in inputs if n != \",\" ])\n",
    "\n",
    "    for i in range(n+1):\n",
    "        inputs = inputs.replace(str(i), str(chr(97 + i)))\n",
    "        outputs = outputs.replace(str(i), str(chr(97 + i)))\n",
    "\n",
    "    return inputs + \"->\" + outputs"
   ],
   "id": "f599e7e820ad3b4c",
   "outputs": [],
   "execution_count": 48
  },
  {
   "metadata": {
    "ExecuteTime": {
     "end_time": "2025-01-30T00:50:24.820450Z",
     "start_time": "2025-01-30T00:50:24.815293Z"
    }
   },
   "cell_type": "code",
   "source": [
    "cnf1: CNFInstance = CNFInstance.random(k=3, n=3, m=2, rng=0)\n",
    "cnf2: CNFInstance = CNFInstance.from_formula(neg(conj(disj(variable(\"a\"), variable(\"b\")), conj(neg(variable(\"a\")), neg(variable(\"b\"))))))\n",
    "\n",
    "expr1: str = einsum_expression(cnf1)\n",
    "expr2: str = einsum_expression(cnf2)\n",
    "\n",
    "print(expr1)"
   ],
   "id": "832ec12bf5d1bea6",
   "outputs": [
    {
     "name": "stdout",
     "output_type": "stream",
     "text": [
      "abd,dce,e,cf,bg,ah,fgi,ihj,j->abc\n"
     ]
    }
   ],
   "execution_count": 49
  },
  {
   "metadata": {
    "ExecuteTime": {
     "end_time": "2025-01-30T00:50:35.526643Z",
     "start_time": "2025-01-30T00:50:35.522211Z"
    }
   },
   "cell_type": "code",
   "source": "ctg.einsum(expr2, *input_arrays(cnf2))",
   "id": "a59b09670385d897",
   "outputs": [
    {
     "data": {
      "text/plain": [
       "array([[0., 0.],\n",
       "       [0., 0.]])"
      ]
     },
     "execution_count": 50,
     "metadata": {},
     "output_type": "execute_result"
    }
   ],
   "execution_count": 50
  }
 ],
 "metadata": {
  "kernelspec": {
   "name": "python3",
   "language": "python",
   "display_name": "Python 3 (ipykernel)"
  }
 },
 "nbformat": 5,
 "nbformat_minor": 9
}
