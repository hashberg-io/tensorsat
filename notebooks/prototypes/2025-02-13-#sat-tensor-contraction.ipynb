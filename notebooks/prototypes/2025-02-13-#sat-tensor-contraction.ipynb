{
 "cells": [
  {
   "cell_type": "markdown",
   "metadata": {},
   "source": [
    "# \\#SAT by Boolean Tensor Contraction\n",
    "\n",
    "This notebook contains a short, self-contained explanation of #SAT computation using Boolean tensor network contraction."
   ]
  },
  {
   "cell_type": "markdown",
   "metadata": {},
   "source": [
    "We implement Boolean tensors as NumPy UInt8 arrays with entries constrained to take values 0 or 1."
   ]
  },
  {
   "cell_type": "code",
   "execution_count": 49,
   "metadata": {},
   "outputs": [],
   "source": [
    "from collections.abc import Sequence\n",
    "from typing import Any\n",
    "import numpy as np\n",
    "\n",
    "type IntArrayLike = Sequence[int] | Sequence[IntArrayLike]\n",
    "type BoolTensor = np.ndarray[Any, np.dtype[np.uint8]]\n",
    "def bool_tensor(data: IntArrayLike) -> BoolTensor:\n",
    "    return np.sign(np.array(data, np.uint8))"
   ]
  },
  {
   "cell_type": "markdown",
   "metadata": {},
   "source": [
    "We instantiate Boolean tensors for the basic building blocks of SAT problems."
   ]
  },
  {
   "cell_type": "code",
   "execution_count": 62,
   "metadata": {},
   "outputs": [],
   "source": [
    "# Constants bit values:\n",
    "false = bool_tensor([\n",
    "    1 if in_ == 0 else 0\n",
    "    for in_ in [0, 1]\n",
    "])\n",
    "true = bool_tensor([\n",
    "    1 if in_ == 1 else 0\n",
    "    for in_ in [0, 1]\n",
    "])\n",
    "\n",
    "\n",
    "# Boolean operators:\n",
    "not_ = bool_tensor([\n",
    "    [\n",
    "        1 if out_ == 1-in_ else 0\n",
    "        for out_ in [0, 1]\n",
    "    ]\n",
    "    for in_ in [0, 1]\n",
    "])\n",
    "and_ = bool_tensor([\n",
    "    [\n",
    "        [\n",
    "            1 if out_ == inl&inr else 0\n",
    "            for out_ in [0, 1]\n",
    "        ]\n",
    "        for inr in [0, 1]\n",
    "    ]\n",
    "    for inl in [0, 1]\n",
    "])\n",
    "or_ = bool_tensor([\n",
    "    [\n",
    "        [\n",
    "            1 if out_ == inl|inr else 0\n",
    "            for out_ in [0, 1]\n",
    "        ]\n",
    "        for inr in [0, 1]\n",
    "    ]\n",
    "    for inl in [0, 1]\n",
    "])\n",
    "xor_ = bool_tensor([\n",
    "    [\n",
    "        [\n",
    "            1 if out_ == inl^inr else 0\n",
    "            for out_ in [0, 1]\n",
    "        ]\n",
    "        for inr in [0, 1]\n",
    "    ]\n",
    "    for inl in [0, 1]\n",
    "])"
   ]
  },
  {
   "cell_type": "markdown",
   "metadata": {},
   "source": [
    "Boolean tensors are indicator functions for subsets of the Cartesian products of finite, explicitly enumerated sets.\n",
    "Specifically, the Boolean tensor of shape $(n_0,...,n_{k-1})$ are the indicator functions for the subsets of:\n",
    "\n",
    "$$\n",
    "\\prod_{j=0}^{k-1} \\lbrace 0, ..., n_j-1 \\rbrace\n",
    "$$\n",
    "\n",
    "Below is a utility function which converts a given Boolean tensor to the corresponding subset."
   ]
  },
  {
   "cell_type": "code",
   "execution_count": 52,
   "metadata": {},
   "outputs": [],
   "source": [
    "def to_subset(tensor: BoolTensor) -> frozenset[tuple[int, ...]]:\n",
    "    return frozenset(\n",
    "        idxs\n",
    "        for idxs in np.ndindex(tensor.shape)\n",
    "        if tensor[*idxs]\n",
    "    )"
   ]
  },
  {
   "cell_type": "code",
   "execution_count": 59,
   "metadata": {},
   "outputs": [
    {
     "name": "stdout",
     "output_type": "stream",
     "text": [
      "and_.shape = (2, 2, 2)\n"
     ]
    }
   ],
   "source": [
    "print(f\"{and_.shape = }\")\n",
    "# (2, 2, 2)\n",
    "#        ^ 1 output bit\n",
    "#  ^^^^ 2 input bits"
   ]
  },
  {
   "cell_type": "code",
   "execution_count": 60,
   "metadata": {},
   "outputs": [
    {
     "name": "stdout",
     "output_type": "stream",
     "text": [
      "to_subset(and_) = frozenset({(1, 0, 0), (0, 0, 0), (1, 1, 1), (0, 1, 0)})\n"
     ]
    }
   ],
   "source": [
    "print(f\"{to_subset(and_) = }\")\n",
    "# { (0 , 0 , 0), (0 , 1 , 0), (1 , 0 , 0), (1 , 1 , 1) }\n",
    "#    0 & 0 = 0    0 & 1 = 0    1 & 0 = 0    1 & 1 = 1"
   ]
  },
  {
   "cell_type": "markdown",
   "metadata": {},
   "source": [
    "We can combine the Boolean constants and operator into a tensor network, representing an arbitrary formula.\n",
    "We can then perform tensor network contraction to compute different quantities:\n",
    "\n",
    "- Leaving the inputs open, we compute Boolean tensor corresponding to the indicator function of all the satisfying assignments.\n",
    "- Discarding the inputs, we compute the number of satisfying assignments.\n",
    "\n",
    "The counting argument works because the formula takes the form of an equation between functions: for a given assignment of values to the inputs, there is exactly one corresponding value that each internal variable can take."
   ]
  },
  {
   "cell_type": "markdown",
   "metadata": {},
   "source": [
    "Below are the [NumPy einsum](https://numpy.org/doc/stable/reference/generated/numpy.einsum.html) strings for both contractions, in the case of the following program:\n",
    "\n",
    "```\n",
    "inputs: a, b, c\n",
    "d = a or b\n",
    "e = d or c\n",
    "assert e is true\n",
    "f = not c\n",
    "g = not b\n",
    "h = not a\n",
    "i = f or g\n",
    "j = i or h\n",
    "assert j is true\n",
    "```\n",
    "\n",
    "The above corresponds to requiring satisfaction of the following formula:\n",
    "\n",
    "```\n",
    "((a|b)|c) & ((~c|~b)|~a)\n",
    "```\n",
    "\n",
    "Note that the conjunction is implicit, because it corresponds to scalar multiplication in the dagger compact category of sets and relations (i.e. to scalar multiplication for Boolean tensors)."
   ]
  },
  {
   "cell_type": "code",
   "execution_count": 65,
   "metadata": {},
   "outputs": [],
   "source": [
    "arrays = [or_, or_, true, not_, not_, not_, or_, or_, true]\n",
    "#         abd  dce  e     cf    bg    ah    fgi  ihj  j\n",
    "count_sat_einsum_expr = \"abd,dce,e,cf,bg,ah,fgi,ihj,j->\"\n",
    "all_sat_ensum_expr = \"abd,dce,e,cf,bg,ah,fgi,ihj,j->abc\""
   ]
  },
  {
   "cell_type": "code",
   "execution_count": 66,
   "metadata": {},
   "outputs": [
    {
     "name": "stdout",
     "output_type": "stream",
     "text": [
      "Number of satisfying assignments:\n"
     ]
    },
    {
     "data": {
      "text/plain": [
       "np.uint8(6)"
      ]
     },
     "execution_count": 66,
     "metadata": {},
     "output_type": "execute_result"
    }
   ],
   "source": [
    "print(\"Number of satisfying assignments:\")\n",
    "np.einsum(count_sat_einsum_expr, *arrays)"
   ]
  },
  {
   "cell_type": "code",
   "execution_count": 67,
   "metadata": {},
   "outputs": [
    {
     "name": "stdout",
     "output_type": "stream",
     "text": [
      "Satisfying assignments:\n",
      "000 -> 0\n",
      "001 -> 1\n",
      "010 -> 1\n",
      "011 -> 1\n",
      "100 -> 1\n",
      "101 -> 1\n",
      "110 -> 1\n",
      "111 -> 0\n"
     ]
    }
   ],
   "source": [
    "print(\"Satisfying assignments:\")\n",
    "for i, b in enumerate(np.einsum(all_sat_ensum_expr, *arrays).reshape(8)):\n",
    "    print(f\"{i:03b} -> {b}\")"
   ]
  }
 ],
 "metadata": {
  "kernelspec": {
   "display_name": "Python 3",
   "language": "python",
   "name": "python3"
  },
  "language_info": {
   "codemirror_mode": {
    "name": "ipython",
    "version": 3
   },
   "file_extension": ".py",
   "mimetype": "text/x-python",
   "name": "python",
   "nbconvert_exporter": "python",
   "pygments_lexer": "ipython3",
   "version": "3.13.0"
  }
 },
 "nbformat": 4,
 "nbformat_minor": 2
}
